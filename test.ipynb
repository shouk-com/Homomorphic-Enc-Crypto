{
 "cells": [
  {
   "cell_type": "code",
   "execution_count": null,
   "metadata": {},
   "outputs": [
    {
     "name": "stdout",
     "output_type": "stream",
     "text": [
      "[1]\n"
     ]
    }
   ],
   "source": [
    "import tenseal as ts\n",
    "\n",
    "# Set up encryption context\n",
    "context = ts.context(ts.SCHEME_TYPE.CKKS, poly_modulus_degree=8192, coeff_mod_bit_sizes=[40, 21, 21, 21])\n",
    "context.global_scale = 2**21\n",
    "# context.generate_galois_keys()\n",
    "\n",
    "# Encrypt a single pixel value\n",
    "encrypted_pixel = ts.ckks_vector(context, [100])  # Encryption\n",
    "\n",
    "# Inspect encrypted pixel\n",
    "print(encrypted_pixel)  # Shows an encrypted object, not the original value\n"
   ]
  }
 ],
 "metadata": {
  "kernelspec": {
   "display_name": ".venv",
   "language": "python",
   "name": "python3"
  },
  "language_info": {
   "codemirror_mode": {
    "name": "ipython",
    "version": 3
   },
   "file_extension": ".py",
   "mimetype": "text/x-python",
   "name": "python",
   "nbconvert_exporter": "python",
   "pygments_lexer": "ipython3",
   "version": "3.12.6"
  }
 },
 "nbformat": 4,
 "nbformat_minor": 2
}
